{
 "cells": [
  {
   "cell_type": "code",
   "execution_count": 1,
   "metadata": {},
   "outputs": [],
   "source": [
    "%load_ext autoreload\n",
    "%autoreload 2"
   ]
  },
  {
   "cell_type": "code",
   "execution_count": 2,
   "metadata": {},
   "outputs": [],
   "source": [
    "import numpy as np\n",
    "import pandas as pd\n",
    "import sys\n",
    "import datetime\n",
    "import os\n",
    "import matplotlib.pyplot as plt\n",
    "import matplotlib\n",
    "import networkx as nx\n",
    "import pickle\n",
    "from collections import OrderedDict\n",
    "import copy\n",
    "from scipy.sparse import csr_matrix\n",
    "from scipy import io\n",
    "import seaborn as sns\n",
    "import joblib\n",
    "# from base import *\n",
    "from joblib import Parallel, delayed\n",
    "import random\n",
    "import scipy"
   ]
  },
  {
   "cell_type": "code",
   "execution_count": 3,
   "metadata": {},
   "outputs": [],
   "source": [
    "MNM_nb_folder = os.path.join('..', '..', '..', 'side_project', 'network_builder')\n",
    "sys.path.append(MNM_nb_folder)\n",
    "python_lib_folder = os.path.join('..', '..', 'pylib')\n",
    "sys.path.append(python_lib_folder)"
   ]
  },
  {
   "cell_type": "code",
   "execution_count": 4,
   "metadata": {},
   "outputs": [],
   "source": [
    "from MNMAPI import *\n",
    "from MNM_mcnb import *\n",
    "from mcDODE import *"
   ]
  },
  {
   "cell_type": "code",
   "execution_count": 5,
   "metadata": {},
   "outputs": [],
   "source": [
    "data_folder = os.path.join('/home/lemma/Documents/MAC-POSTS/data/input_files_7link_multiclass')"
   ]
  },
  {
   "cell_type": "code",
   "execution_count": 6,
   "metadata": {},
   "outputs": [],
   "source": [
    "nb = MNM_network_builder()\n",
    "nb.load_from_folder(data_folder)"
   ]
  },
  {
   "cell_type": "code",
   "execution_count": 7,
   "metadata": {},
   "outputs": [],
   "source": [
    "observed_link_list = [3, 4, 6]\n",
    "ml_car = 2\n",
    "ml_truck = 1\n",
    "data_dict = dict()\n",
    "num_interval = nb.config.config_dict['DTA']['max_interval']\n",
    "true_car_x = np.random.rand(num_interval * len(observed_link_list)) * 100\n",
    "true_truck_x = np.random.rand(num_interval * len(observed_link_list)) * 10\n",
    "L_car_one = np.random.randint(2, size = (ml_car, len(observed_link_list)))\n",
    "L_truck_one = np.random.randint(2, size = (ml_truck, len(observed_link_list)))\n",
    "L_car = csr_matrix(scipy.linalg.block_diag(*[L_car_one for i in range(num_interval)]))\n",
    "L_truck = csr_matrix(scipy.linalg.block_diag(*[L_truck_one for i in range(num_interval)]))\n",
    "m_car = L_car.dot(true_car_x)\n",
    "m_truck = L_truck.dot(true_truck_x)\n",
    "data_dict['car_count_agg_L_list'] = [L_car]\n",
    "data_dict['truck_count_agg_L_list'] = [L_truck]\n",
    "data_dict['car_link_flow'] = [m_car]\n",
    "data_dict['truck_link_flow'] = [m_truck]\n",
    "# data_dict['car_link_tt'] = [m_spd_car]\n",
    "# data_dict['truck_link_tt'] = [m_spd_truck]"
   ]
  },
  {
   "cell_type": "code",
   "execution_count": 8,
   "metadata": {},
   "outputs": [],
   "source": [
    "config = dict()\n",
    "config['use_car_link_flow'] = True\n",
    "config['use_truck_link_flow'] = False\n",
    "config['use_car_link_tt'] = False\n",
    "config['use_truck_link_tt'] = False\n",
    "config['car_count_agg'] = True\n",
    "config['truck_count_agg'] = True\n",
    "config['link_car_flow_weight'] = 1\n",
    "config['link_truck_flow_weight'] = 1\n",
    "config['link_tt_weight'] = 1\n",
    "config['num_data'] = 1\n",
    "config['observed_links'] = observed_link_list\n",
    "config['paths_list'] = range(nb.config.config_dict['FIXED']['num_path'])"
   ]
  },
  {
   "cell_type": "code",
   "execution_count": 9,
   "metadata": {},
   "outputs": [
    {
     "data": {
      "text/plain": [
       "[DTA]\n",
       "network_name = Snap_graph\n",
       "unit_time = 5\n",
       "total_interval = -1\n",
       "assign_frq = 180\n",
       "start_assign_interval = 0\n",
       "max_interval = 10\n",
       "flow_scalar = 10\n",
       "num_of_link = 7\n",
       "num_of_node = 6\n",
       "num_of_O = 1\n",
       "num_of_D = 1\n",
       "OD_pair = 1\n",
       "adaptive_ratio = 0.5\n",
       "routing_type = Hybrid\n",
       "\n",
       "[STAT]\n",
       "rec_mode = LRn\n",
       "rec_mode_para = 12\n",
       "rec_folder = record\n",
       "rec_volume = 0\n",
       "volume_load_automatic_rec = 0\n",
       "volume_record_automatic_rec = 0\n",
       "rec_tt = 1\n",
       "tt_load_automatic_rec = 0\n",
       "tt_record_automatic_rec = 0\n",
       "\n",
       "[FIXED]\n",
       "path_file_name = path_table\n",
       "num_path = 3\n",
       "choice_portion = Buffer\n",
       "route_frq = 180\n",
       "\n",
       "[ADAPTIVE]\n",
       "route_frq = 180"
      ]
     },
     "execution_count": 9,
     "metadata": {},
     "output_type": "execute_result"
    }
   ],
   "source": [
    "nb.config"
   ]
  },
  {
   "cell_type": "code",
   "execution_count": 10,
   "metadata": {},
   "outputs": [],
   "source": [
    "dode = MCDODE(nb, config)"
   ]
  },
  {
   "cell_type": "code",
   "execution_count": 11,
   "metadata": {},
   "outputs": [],
   "source": [
    "dode.add_data(data_dict)"
   ]
  },
  {
   "cell_type": "code",
   "execution_count": 12,
   "metadata": {},
   "outputs": [],
   "source": [
    "(car_flow, truck_flow) = dode.init_path_flow(car_scale = 10, truck_scale = 1)"
   ]
  },
  {
   "cell_type": "code",
   "execution_count": 13,
   "metadata": {},
   "outputs": [
    {
     "name": "stdout",
     "output_type": "stream",
     "text": [
      "Start iteration 1530501851.22\n",
      "Running simulation 1530501851.22\n",
      "Finish simulation 1530501851.25\n",
      "Getting DAR 1530501851.25\n",
      "Creating the coo matrix 1530501851.26\n",
      "converting the csr 1530501851.26\n",
      "finish converting 1530501851.26\n",
      "Evaluating grad 1530501851.26\n",
      "car link flow 1530501851.26\n",
      "Getting Loss 1530501851.26\n",
      "Epoch: 0 Loss: 142.07859148568352 1530501851.26\n",
      "Start iteration 1530501851.26\n",
      "Running simulation 1530501851.26\n",
      "Finish simulation 1530501851.3\n",
      "Getting DAR 1530501851.3\n",
      "Creating the coo matrix 1530501851.3\n",
      "converting the csr 1530501851.3\n",
      "finish converting 1530501851.3\n",
      "Evaluating grad 1530501851.3\n",
      "car link flow 1530501851.3\n",
      "Getting Loss 1530501851.3\n",
      "Epoch: 1 Loss: 133.3831062935849 1530501851.31\n",
      "Start iteration 1530501851.31\n",
      "Running simulation 1530501851.31\n",
      "Finish simulation 1530501851.34\n",
      "Getting DAR 1530501851.34\n",
      "Creating the coo matrix 1530501851.35\n",
      "converting the csr 1530501851.35\n",
      "finish converting 1530501851.35\n",
      "Evaluating grad 1530501851.35\n",
      "car link flow 1530501851.35\n",
      "Getting Loss 1530501851.35\n",
      "Epoch: 2 Loss: 122.8591371217335 1530501851.36\n",
      "Start iteration 1530501851.36\n",
      "Running simulation 1530501851.36\n",
      "Finish simulation 1530501851.39\n",
      "Getting DAR 1530501851.39\n",
      "Creating the coo matrix 1530501851.4\n",
      "converting the csr 1530501851.4\n",
      "finish converting 1530501851.4\n",
      "Evaluating grad 1530501851.4\n",
      "car link flow 1530501851.4\n",
      "Getting Loss 1530501851.4\n",
      "Epoch: 3 Loss: 117.4664123621133 1530501851.41\n",
      "Start iteration 1530501851.41\n",
      "Running simulation 1530501851.41\n",
      "Finish simulation 1530501851.45\n",
      "Getting DAR 1530501851.45\n",
      "Creating the coo matrix 1530501851.45\n",
      "converting the csr 1530501851.45\n",
      "finish converting 1530501851.45\n",
      "Evaluating grad 1530501851.45\n",
      "car link flow 1530501851.45\n",
      "Getting Loss 1530501851.45\n",
      "Epoch: 4 Loss: 110.98062897388945 1530501851.46\n",
      "Start iteration 1530501851.46\n",
      "Running simulation 1530501851.46\n",
      "Finish simulation 1530501851.5\n",
      "Getting DAR 1530501851.5\n",
      "Creating the coo matrix 1530501851.51\n",
      "converting the csr 1530501851.51\n",
      "finish converting 1530501851.51\n",
      "Evaluating grad 1530501851.51\n",
      "car link flow 1530501851.51\n",
      "Getting Loss 1530501851.51\n",
      "Epoch: 5 Loss: 108.73446404217536 1530501851.52\n",
      "Start iteration 1530501851.52\n",
      "Running simulation 1530501851.52\n",
      "Finish simulation 1530501851.55\n",
      "Getting DAR 1530501851.55\n",
      "Creating the coo matrix 1530501851.56\n",
      "converting the csr 1530501851.56\n",
      "finish converting 1530501851.56\n",
      "Evaluating grad 1530501851.56\n",
      "car link flow 1530501851.56\n",
      "Getting Loss 1530501851.56\n",
      "Epoch: 6 Loss: 104.28998931471321 1530501851.57\n",
      "Start iteration 1530501851.57\n",
      "Running simulation 1530501851.57\n",
      "Finish simulation 1530501851.61\n",
      "Getting DAR 1530501851.61\n",
      "Creating the coo matrix 1530501851.61\n",
      "converting the csr 1530501851.61\n",
      "finish converting 1530501851.61\n",
      "Evaluating grad 1530501851.61\n",
      "car link flow 1530501851.61\n",
      "Getting Loss 1530501851.62\n",
      "Epoch: 7 Loss: 99.41116780359137 1530501851.62\n",
      "Start iteration 1530501851.62\n",
      "Running simulation 1530501851.62\n",
      "Finish simulation 1530501851.67\n",
      "Getting DAR 1530501851.67\n",
      "Creating the coo matrix 1530501851.67\n",
      "converting the csr 1530501851.67\n",
      "finish converting 1530501851.67\n",
      "Evaluating grad 1530501851.67\n",
      "car link flow 1530501851.67\n",
      "Getting Loss 1530501851.67\n",
      "Epoch: 8 Loss: 97.63937050973367 1530501851.68\n",
      "Start iteration 1530501851.68\n",
      "Running simulation 1530501851.68\n",
      "Finish simulation 1530501851.72\n",
      "Getting DAR 1530501851.72\n",
      "Creating the coo matrix 1530501851.73\n",
      "converting the csr 1530501851.73\n",
      "finish converting 1530501851.73\n",
      "Evaluating grad 1530501851.73\n",
      "car link flow 1530501851.73\n",
      "Getting Loss 1530501851.73\n",
      "Epoch: 9 Loss: 93.33251605319003 1530501851.74\n"
     ]
    },
    {
     "data": {
      "text/plain": [
       "(array([64.64658627, 46.60916825,  4.19372478,  3.35645171, 34.20828135,\n",
       "        58.24645595, 78.65160324, 62.17462759, 18.45688847, 45.06245272,\n",
       "        31.1264157 , 74.30924781, 37.81039113, 35.17064768, 84.7312193 ,\n",
       "        21.10081931, 60.38769706, 39.46148076,  0.93694497,  1.8191899 ,\n",
       "        84.89529249, 57.5238627 , 30.27235348, 59.527687  , 60.96551992,\n",
       "        73.35167133, 46.07184872, 63.36892599, 52.47307896, 64.61125576]),\n",
       " array([0.74339282, 3.61978535, 6.17018451, 6.37186652, 0.11797884,\n",
       "        3.71984908, 1.4799902 , 4.57439874, 4.1687106 , 3.0392103 ,\n",
       "        9.20070639, 0.36711798, 2.80973578, 9.59546815, 8.23172382,\n",
       "        8.86668511, 0.49368852, 3.70662858, 3.08921281, 0.0485392 ,\n",
       "        2.06966675, 1.16858713, 8.56799518, 6.52262176, 7.16177778,\n",
       "        1.92668605, 1.0987428 , 4.56185341, 6.56324267, 1.44802636]))"
      ]
     },
     "execution_count": 13,
     "metadata": {},
     "output_type": "execute_result"
    }
   ],
   "source": [
    "dode.estimate_path_flow(max_epoch = 10, car_init_scale = 100, truck_init_scale = 10, store_folder = '.')"
   ]
  },
  {
   "cell_type": "code",
   "execution_count": 14,
   "metadata": {},
   "outputs": [],
   "source": [
    "from scipy.sparse import coo_matrix"
   ]
  },
  {
   "cell_type": "code",
   "execution_count": null,
   "metadata": {},
   "outputs": [],
   "source": []
  }
 ],
 "metadata": {
  "kernelspec": {
   "display_name": "Python 2",
   "language": "python",
   "name": "python2"
  },
  "language_info": {
   "codemirror_mode": {
    "name": "ipython",
    "version": 2
   },
   "file_extension": ".py",
   "mimetype": "text/x-python",
   "name": "python",
   "nbconvert_exporter": "python",
   "pygments_lexer": "ipython2",
   "version": "2.7.10"
  }
 },
 "nbformat": 4,
 "nbformat_minor": 2
}
