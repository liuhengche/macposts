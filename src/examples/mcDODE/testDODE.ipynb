{
 "cells": [
  {
   "cell_type": "code",
   "execution_count": 1,
   "metadata": {},
   "outputs": [],
   "source": [
    "%load_ext autoreload\n",
    "%autoreload 2"
   ]
  },
  {
   "cell_type": "code",
   "execution_count": 2,
   "metadata": {},
   "outputs": [],
   "source": [
    "import numpy as np\n",
    "import pandas as pd\n",
    "import sys\n",
    "import datetime\n",
    "import os\n",
    "import matplotlib.pyplot as plt\n",
    "import matplotlib\n",
    "import networkx as nx\n",
    "import pickle\n",
    "from collections import OrderedDict\n",
    "import copy\n",
    "from scipy.sparse import csr_matrix\n",
    "from scipy import io\n",
    "import seaborn as sns\n",
    "import joblib\n",
    "# from base import *\n",
    "from joblib import Parallel, delayed\n",
    "import random\n",
    "import time"
   ]
  },
  {
   "cell_type": "markdown",
   "metadata": {},
   "source": [
    "## TEST NB"
   ]
  },
  {
   "cell_type": "code",
   "execution_count": 3,
   "metadata": {},
   "outputs": [],
   "source": [
    "MNM_nb_folder = os.path.join('..', '..', '..', 'side_project', 'network_builder')\n",
    "sys.path.append(MNM_nb_folder)\n",
    "python_lib_folder = os.path.join('..', '..', 'pylib')\n",
    "sys.path.append(python_lib_folder)"
   ]
  },
  {
   "cell_type": "code",
   "execution_count": 4,
   "metadata": {},
   "outputs": [],
   "source": [
    "import macposts\n",
    "import MNM_mcnb\n",
    "from mcDODE import *"
   ]
  },
  {
   "cell_type": "code",
   "execution_count": 5,
   "metadata": {},
   "outputs": [],
   "source": [
    "origin_spc_folder = os.path.join(r'D:\\documents\\GitHub\\MAC-POSTS\\data',\n",
    "                                 r'input_files_MckeesRocks_SPC_new')\n",
    "cache_folder = os.path.join('cahce')"
   ]
  },
  {
   "cell_type": "code",
   "execution_count": 6,
   "metadata": {},
   "outputs": [],
   "source": [
    "nb = MNM_mcnb.MNM_network_builder()"
   ]
  },
  {
   "cell_type": "code",
   "execution_count": 7,
   "metadata": {},
   "outputs": [
    {
     "name": "stdout",
     "output_type": "stream",
     "text": [
      "D:\\documents\\GitHub\\MAC-POSTS\\data\\input_files_MckeesRocks_SPC_new\n",
      "<class 'str'>\n"
     ]
    }
   ],
   "source": [
    "print(origin_spc_folder)\n",
    "print(type(origin_spc_folder))"
   ]
  },
  {
   "cell_type": "code",
   "execution_count": 8,
   "metadata": {},
   "outputs": [],
   "source": [
    "nb.load_from_folder(origin_spc_folder)"
   ]
  },
  {
   "cell_type": "code",
   "execution_count": 9,
   "metadata": {},
   "outputs": [
    {
     "data": {
      "text/plain": [
       "[DTA]\n",
       "network_name = Snap_graph\n",
       "unit_time = 5\n",
       "total_interval = 5000\n",
       "assign_frq = 180\n",
       "start_assign_interval = 0\n",
       "max_interval = 24\n",
       "flow_scalar = 2\n",
       "num_of_link = 16110\n",
       "num_of_node = 6297\n",
       "num_of_O = 283\n",
       "num_of_D = 283\n",
       "OD_pair = 80089\n",
       "adaptive_ratio_car = 0.2\n",
       "adaptive_ratio_truck = 0.0\n",
       "routing_type = Biclass_Hybrid\n",
       "\n",
       "[STAT]\n",
       "rec_mode = LRn\n",
       "rec_mode_para = 2\n",
       "rec_folder = record\n",
       "rec_volume = 0\n",
       "volume_load_automatic_rec = 0\n",
       "volume_record_automatic_rec = 0\n",
       "rec_tt = 1\n",
       "tt_load_automatic_rec = 0\n",
       "tt_record_automatic_rec = 0\n",
       "\n",
       "[FIXED]\n",
       "path_file_name = path_table\n",
       "num_path = 216720\n",
       "choice_portion = Buffer\n",
       "buffer_length = 24\n",
       "route_frq = 180\n",
       "\n",
       "[ADAPTIVE]\n",
       "route_frq = 180"
      ]
     },
     "execution_count": 9,
     "metadata": {},
     "output_type": "execute_result"
    }
   ],
   "source": [
    "nb.config"
   ]
  },
  {
   "cell_type": "code",
   "execution_count": 10,
   "metadata": {},
   "outputs": [
    {
     "ename": "FileNotFoundError",
     "evalue": "[Errno 2] No such file or directory: '28iteration.pickle'",
     "output_type": "error",
     "traceback": [
      "\u001b[1;31m---------------------------------------------------------------------------\u001b[0m",
      "\u001b[1;31mFileNotFoundError\u001b[0m                         Traceback (most recent call last)",
      "Cell \u001b[1;32mIn[10], line 1\u001b[0m\n\u001b[1;32m----> 1\u001b[0m (f_car, f_truck, loss) \u001b[38;5;241m=\u001b[39m pickle\u001b[38;5;241m.\u001b[39mload(\u001b[38;5;28;43mopen\u001b[39;49m\u001b[43m(\u001b[49m\u001b[38;5;124;43m'\u001b[39;49m\u001b[38;5;124;43m28iteration.pickle\u001b[39;49m\u001b[38;5;124;43m'\u001b[39;49m\u001b[43m,\u001b[49m\u001b[43m \u001b[49m\u001b[38;5;124;43m'\u001b[39;49m\u001b[38;5;124;43mrb\u001b[39;49m\u001b[38;5;124;43m'\u001b[39;49m\u001b[43m)\u001b[49m)\n",
      "File \u001b[1;32m~\\AppData\\Local\\Packages\\PythonSoftwareFoundation.Python.3.12_qbz5n2kfra8p0\\LocalCache\\local-packages\\Python312\\site-packages\\IPython\\core\\interactiveshell.py:324\u001b[0m, in \u001b[0;36m_modified_open\u001b[1;34m(file, *args, **kwargs)\u001b[0m\n\u001b[0;32m    317\u001b[0m \u001b[38;5;28;01mif\u001b[39;00m file \u001b[38;5;129;01min\u001b[39;00m {\u001b[38;5;241m0\u001b[39m, \u001b[38;5;241m1\u001b[39m, \u001b[38;5;241m2\u001b[39m}:\n\u001b[0;32m    318\u001b[0m     \u001b[38;5;28;01mraise\u001b[39;00m \u001b[38;5;167;01mValueError\u001b[39;00m(\n\u001b[0;32m    319\u001b[0m         \u001b[38;5;124mf\u001b[39m\u001b[38;5;124m\"\u001b[39m\u001b[38;5;124mIPython won\u001b[39m\u001b[38;5;124m'\u001b[39m\u001b[38;5;124mt let you open fd=\u001b[39m\u001b[38;5;132;01m{\u001b[39;00mfile\u001b[38;5;132;01m}\u001b[39;00m\u001b[38;5;124m by default \u001b[39m\u001b[38;5;124m\"\u001b[39m\n\u001b[0;32m    320\u001b[0m         \u001b[38;5;124m\"\u001b[39m\u001b[38;5;124mas it is likely to crash IPython. If you know what you are doing, \u001b[39m\u001b[38;5;124m\"\u001b[39m\n\u001b[0;32m    321\u001b[0m         \u001b[38;5;124m\"\u001b[39m\u001b[38;5;124myou can use builtins\u001b[39m\u001b[38;5;124m'\u001b[39m\u001b[38;5;124m open.\u001b[39m\u001b[38;5;124m\"\u001b[39m\n\u001b[0;32m    322\u001b[0m     )\n\u001b[1;32m--> 324\u001b[0m \u001b[38;5;28;01mreturn\u001b[39;00m \u001b[43mio_open\u001b[49m\u001b[43m(\u001b[49m\u001b[43mfile\u001b[49m\u001b[43m,\u001b[49m\u001b[43m \u001b[49m\u001b[38;5;241;43m*\u001b[39;49m\u001b[43margs\u001b[49m\u001b[43m,\u001b[49m\u001b[43m \u001b[49m\u001b[38;5;241;43m*\u001b[39;49m\u001b[38;5;241;43m*\u001b[39;49m\u001b[43mkwargs\u001b[49m\u001b[43m)\u001b[49m\n",
      "\u001b[1;31mFileNotFoundError\u001b[0m: [Errno 2] No such file or directory: '28iteration.pickle'"
     ]
    }
   ],
   "source": [
    "(f_car, f_truck, loss) = pickle.load(open('28iteration.pickle', 'rb'))"
   ]
  },
  {
   "cell_type": "code",
   "execution_count": 11,
   "metadata": {},
   "outputs": [],
   "source": [
    "path_len = len(nb.path_table.ID2path) * nb.config.config_dict['DTA']['max_interval']\n",
    "# car_flow = np.random.rand(path_len) / 100\n",
    "# truck_flow = np.zeros(path_len)"
   ]
  },
  {
   "cell_type": "code",
   "execution_count": 13,
   "metadata": {},
   "outputs": [],
   "source": [
    "num_interval = nb.config.config_dict['DTA']['max_interval']\n",
    "f_car = np.random.rand(num_interval * nb.config.config_dict['FIXED']['num_path']) * 300\n",
    "f_truck = np.random.rand(num_interval * nb.config.config_dict['FIXED']['num_path']) * 30"
   ]
  },
  {
   "cell_type": "code",
   "execution_count": 14,
   "metadata": {},
   "outputs": [],
   "source": [
    "nb.update_demand_path2(f_car, f_truck)"
   ]
  },
  {
   "cell_type": "code",
   "execution_count": null,
   "metadata": {},
   "outputs": [],
   "source": []
  },
  {
   "cell_type": "code",
   "execution_count": null,
   "metadata": {},
   "outputs": [],
   "source": [
    "pickle.dump((f_car * 2, f_truck * 2, loss), open('2_28iteration_double.pickle', 'wb'))"
   ]
  },
  {
   "cell_type": "code",
   "execution_count": 15,
   "metadata": {},
   "outputs": [
    {
     "data": {
      "text/plain": [
       "array([168.96689113,  50.52978051, 239.4669118 , ..., 255.17376694,\n",
       "       270.65032149, 217.8284554 ])"
      ]
     },
     "execution_count": 15,
     "metadata": {},
     "output_type": "execute_result"
    }
   ],
   "source": [
    "f_car"
   ]
  },
  {
   "cell_type": "code",
   "execution_count": 16,
   "metadata": {},
   "outputs": [
    {
     "data": {
      "text/plain": [
       "np.float64(1560046511.1890197)"
      ]
     },
     "execution_count": 16,
     "metadata": {},
     "output_type": "execute_result"
    }
   ],
   "source": [
    "(f_car * 2).sum()"
   ]
  },
  {
   "cell_type": "code",
   "execution_count": 17,
   "metadata": {},
   "outputs": [
    {
     "ename": "KeyboardInterrupt",
     "evalue": "",
     "output_type": "error",
     "traceback": [
      "\u001b[1;31m---------------------------------------------------------------------------\u001b[0m",
      "\u001b[1;31mKeyboardInterrupt\u001b[0m                         Traceback (most recent call last)",
      "Cell \u001b[1;32mIn[17], line 1\u001b[0m\n\u001b[1;32m----> 1\u001b[0m \u001b[43mnb\u001b[49m\u001b[38;5;241;43m.\u001b[39;49m\u001b[43mdump_to_folder\u001b[49m\u001b[43m(\u001b[49m\u001b[43mcache_folder\u001b[49m\u001b[43m)\u001b[49m\n",
      "File \u001b[1;32md:\\documents\\GitHub\\MAC-POSTS\\src\\examples\\mcDODE\\..\\..\\..\\side_project\\network_builder\\MNM_mcnb.py:640\u001b[0m, in \u001b[0;36mMNM_network_builder.dump_to_folder\u001b[1;34m(self, path, config_file_name, link_file_name, node_file_name, graph_file_name, od_file_name, pathtable_file_name, path_p_file_name, demand_file_name)\u001b[0m\n\u001b[0;32m    637\u001b[0m     f_od\u001b[38;5;241m.\u001b[39mwrite(\u001b[38;5;28mself\u001b[39m\u001b[38;5;241m.\u001b[39mod\u001b[38;5;241m.\u001b[39mgenerate_text())\n\u001b[0;32m    639\u001b[0m \u001b[38;5;28;01mwith\u001b[39;00m \u001b[38;5;28mopen\u001b[39m(os\u001b[38;5;241m.\u001b[39mpath\u001b[38;5;241m.\u001b[39mjoin(path, demand_file_name), \u001b[38;5;124m'\u001b[39m\u001b[38;5;124mw\u001b[39m\u001b[38;5;124m'\u001b[39m) \u001b[38;5;28;01mas\u001b[39;00m f_demand:\n\u001b[1;32m--> 640\u001b[0m     f_demand\u001b[38;5;241m.\u001b[39mwrite(\u001b[38;5;28;43mself\u001b[39;49m\u001b[38;5;241;43m.\u001b[39;49m\u001b[43mdemand\u001b[49m\u001b[38;5;241;43m.\u001b[39;49m\u001b[43mgenerate_text\u001b[49m\u001b[43m(\u001b[49m\u001b[43m)\u001b[49m)\n\u001b[0;32m    642\u001b[0m \u001b[38;5;28;01mwith\u001b[39;00m \u001b[38;5;28mopen\u001b[39m(os\u001b[38;5;241m.\u001b[39mpath\u001b[38;5;241m.\u001b[39mjoin(path, graph_file_name), \u001b[38;5;124m'\u001b[39m\u001b[38;5;124mw\u001b[39m\u001b[38;5;124m'\u001b[39m) \u001b[38;5;28;01mas\u001b[39;00m f_graph:\n\u001b[0;32m    643\u001b[0m     f_graph\u001b[38;5;241m.\u001b[39mwrite(\u001b[38;5;28mself\u001b[39m\u001b[38;5;241m.\u001b[39mgraph\u001b[38;5;241m.\u001b[39mgenerate_text())\n",
      "File \u001b[1;32md:\\documents\\GitHub\\MAC-POSTS\\src\\examples\\mcDODE\\..\\..\\..\\side_project\\network_builder\\MNM_mcnb.py:137\u001b[0m, in \u001b[0;36mMNM_demand.generate_text\u001b[1;34m(self)\u001b[0m\n\u001b[0;32m    134\u001b[0m \u001b[38;5;28;01mfor\u001b[39;00m O \u001b[38;5;129;01min\u001b[39;00m \u001b[38;5;28mself\u001b[39m\u001b[38;5;241m.\u001b[39mdemand_dict\u001b[38;5;241m.\u001b[39mkeys():\n\u001b[0;32m    135\u001b[0m   \u001b[38;5;28;01mfor\u001b[39;00m D \u001b[38;5;129;01min\u001b[39;00m \u001b[38;5;28mself\u001b[39m\u001b[38;5;241m.\u001b[39mdemand_dict[O]\u001b[38;5;241m.\u001b[39mkeys():\n\u001b[0;32m    136\u001b[0m     tmp_str \u001b[38;5;241m+\u001b[39m\u001b[38;5;241m=\u001b[39m \u001b[38;5;124m'\u001b[39m\u001b[38;5;124m \u001b[39m\u001b[38;5;124m'\u001b[39m\u001b[38;5;241m.\u001b[39mjoin([\u001b[38;5;28mstr\u001b[39m(e) \u001b[38;5;28;01mfor\u001b[39;00m e \u001b[38;5;129;01min\u001b[39;00m [O, D] \u001b[38;5;241m+\u001b[39m \n\u001b[1;32m--> 137\u001b[0m               \u001b[38;5;28;43mself\u001b[39;49m\u001b[38;5;241;43m.\u001b[39;49m\u001b[43mdemand_dict\u001b[49m\u001b[43m[\u001b[49m\u001b[43mO\u001b[49m\u001b[43m]\u001b[49m\u001b[43m[\u001b[49m\u001b[43mD\u001b[49m\u001b[43m]\u001b[49m\u001b[43m[\u001b[49m\u001b[38;5;241;43m0\u001b[39;49m\u001b[43m]\u001b[49m\u001b[38;5;241;43m.\u001b[39;49m\u001b[43mtolist\u001b[49m\u001b[43m(\u001b[49m\u001b[43m)\u001b[49m \u001b[38;5;241m+\u001b[39m \u001b[38;5;28mself\u001b[39m\u001b[38;5;241m.\u001b[39mdemand_dict[O][D][\u001b[38;5;241m1\u001b[39m]\u001b[38;5;241m.\u001b[39mtolist()] ) \u001b[38;5;241m+\u001b[39m \u001b[38;5;124m'\u001b[39m\u001b[38;5;130;01m\\n\u001b[39;00m\u001b[38;5;124m'\u001b[39m\n\u001b[0;32m    138\u001b[0m \u001b[38;5;28;01mreturn\u001b[39;00m tmp_str\n",
      "\u001b[1;31mKeyboardInterrupt\u001b[0m: "
     ]
    }
   ],
   "source": [
    "nb.dump_to_folder(cache_folder)"
   ]
  },
  {
   "cell_type": "markdown",
   "metadata": {},
   "source": [
    "## Load data"
   ]
  },
  {
   "cell_type": "code",
   "execution_count": null,
   "metadata": {},
   "outputs": [],
   "source": [
    "# nb_link_ID_list = list(map(lambda x: x.ID, nb.link_list))"
   ]
  },
  {
   "cell_type": "code",
   "execution_count": null,
   "metadata": {},
   "outputs": [],
   "source": [
    "# pickle.dump(nb_link_ID_list, open('nb_link_ID_list.pickle', 'wb'))"
   ]
  },
  {
   "cell_type": "code",
   "execution_count": null,
   "metadata": {},
   "outputs": [],
   "source": [
    "# [m_car, L_car, m_truck, L_truck, m_spd_car, m_spd_truck, observed_link_list] = pickle.load(open('mc_data.pickle', 'rb'))"
   ]
  },
  {
   "cell_type": "code",
   "execution_count": null,
   "metadata": {},
   "outputs": [],
   "source": [
    "# print len(observed_link_list)"
   ]
  },
  {
   "cell_type": "code",
   "execution_count": null,
   "metadata": {},
   "outputs": [],
   "source": []
  },
  {
   "cell_type": "markdown",
   "metadata": {},
   "source": [
    "## TEST DTA"
   ]
  },
  {
   "cell_type": "code",
   "execution_count": null,
   "metadata": {},
   "outputs": [],
   "source": [
    "# ass_freq = nb.config.config_dict['DTA']['assign_frq']\n",
    "# num_loading_interval = nb.config.config_dict['DTA']['max_interval'] * ass_freq"
   ]
  },
  {
   "cell_type": "code",
   "execution_count": null,
   "metadata": {},
   "outputs": [],
   "source": [
    "ass_freq = 180\n",
    "num_loading_interval = 24 * 180\n",
    "num_path = 216720"
   ]
  },
  {
   "cell_type": "code",
   "execution_count": null,
   "metadata": {},
   "outputs": [],
   "source": [
    "dta = mcdta_api()"
   ]
  },
  {
   "cell_type": "code",
   "execution_count": null,
   "metadata": {},
   "outputs": [],
   "source": [
    "dta.initialize(cache_folder)"
   ]
  },
  {
   "cell_type": "code",
   "execution_count": null,
   "metadata": {},
   "outputs": [],
   "source": [
    "dta.register_links(observed_link_list)"
   ]
  },
  {
   "cell_type": "code",
   "execution_count": null,
   "metadata": {},
   "outputs": [],
   "source": [
    "# dta.register_paths(range(nb.config.config_dict['FIXED']['num_path']))\n",
    "dta.register_paths(range(num_path))"
   ]
  },
  {
   "cell_type": "code",
   "execution_count": null,
   "metadata": {},
   "outputs": [],
   "source": [
    "dta.install_cc()\n",
    "dta.install_cc_tree()"
   ]
  },
  {
   "cell_type": "code",
   "execution_count": null,
   "metadata": {},
   "outputs": [],
   "source": [
    "dta.run_whole()"
   ]
  },
  {
   "cell_type": "code",
   "execution_count": null,
   "metadata": {},
   "outputs": [],
   "source": [
    "dta.get_car_link_tt(np.array([50, 100]))"
   ]
  },
  {
   "cell_type": "code",
   "execution_count": null,
   "metadata": {},
   "outputs": [],
   "source": [
    "tt = dta.get_car_dar_matrix(np.arange(0, num_loading_interval, ass_freq), \n",
    "                np.arange(0, num_loading_interval, ass_freq) + ass_freq)"
   ]
  },
  {
   "cell_type": "code",
   "execution_count": null,
   "metadata": {
    "scrolled": true
   },
   "outputs": [],
   "source": [
    "tt"
   ]
  },
  {
   "cell_type": "markdown",
   "metadata": {},
   "source": [
    "## Test MCDODE lib"
   ]
  },
  {
   "cell_type": "code",
   "execution_count": null,
   "metadata": {},
   "outputs": [],
   "source": [
    "from mcDODE import *"
   ]
  },
  {
   "cell_type": "code",
   "execution_count": null,
   "metadata": {},
   "outputs": [],
   "source": [
    "[m_car, L_car, m_truck, L_truck, m_spd_car, m_spd_truck, observed_link_list] = pickle.load(open('mc_data.pickle', 'rb'))"
   ]
  },
  {
   "cell_type": "code",
   "execution_count": null,
   "metadata": {},
   "outputs": [],
   "source": [
    "data_dict = dict()\n",
    "data_dict['car_count_agg_L_list'] = [L_car]\n",
    "data_dict['truck_count_agg_L_list'] = [L_truck]\n",
    "data_dict['car_link_flow'] = [m_car]\n",
    "data_dict['truck_link_flow'] = [m_truck]\n",
    "data_dict['car_link_tt'] = [m_spd_car]\n",
    "data_dict['truck_link_tt'] = [m_spd_truck]"
   ]
  },
  {
   "cell_type": "code",
   "execution_count": null,
   "metadata": {},
   "outputs": [],
   "source": [
    "config = dict()\n",
    "config['use_car_link_flow'] = True\n",
    "config['use_car_link_tt'] = False\n",
    "config['use_truck_link_flow'] = False\n",
    "config['use_truck_link_tt'] = False\n",
    "config['car_count_agg'] = True\n",
    "config['truck_count_agg'] = True\n",
    "config['link_car_flow_weight'] = 1\n",
    "config['link_truck_flow_weight'] = 1\n",
    "config['link_tt_weight'] = 1\n",
    "config['num_data'] = 1\n",
    "config['observed_links'] = observed_link_list\n",
    "config['paths_list'] = range(nb.config.config_dict['FIXED']['num_path'])"
   ]
  },
  {
   "cell_type": "code",
   "execution_count": null,
   "metadata": {},
   "outputs": [],
   "source": [
    "dode = MCDODE(nb, config)"
   ]
  },
  {
   "cell_type": "code",
   "execution_count": null,
   "metadata": {},
   "outputs": [],
   "source": [
    "dode.add_data(data_dict)"
   ]
  },
  {
   "cell_type": "code",
   "execution_count": null,
   "metadata": {},
   "outputs": [],
   "source": [
    "dode.estimate_path_flow(max_epoch = 100, step_size = 1e-4, \n",
    "                       car_init_scale = 0.01, truck_init_scale = 0.001,\n",
    "                       store_folder = 'mcpath_storage')"
   ]
  },
  {
   "cell_type": "code",
   "execution_count": null,
   "metadata": {},
   "outputs": [],
   "source": [
    "(f_car, f_truck) = pickle.load(open(os.path.join(\"mcpath_storage\", '0iteration.pickle'), 'rb'))"
   ]
  },
  {
   "cell_type": "code",
   "execution_count": null,
   "metadata": {},
   "outputs": [],
   "source": [
    "(p, link_seq, path_seq) = pickle.load(open(os.path.join('test.pickle'), 'rb'))"
   ]
  },
  {
   "cell_type": "code",
   "execution_count": null,
   "metadata": {},
   "outputs": [],
   "source": [
    "p.shape"
   ]
  },
  {
   "cell_type": "code",
   "execution_count": null,
   "metadata": {},
   "outputs": [],
   "source": [
    "num_assign_interval = 24\n",
    "num_e_path = 216720\n",
    "num_e_link = 2910\n",
    "start_time = time.time()\n",
    "a = coo_matrix((p, (link_seq, path_seq)), \n",
    "                   shape=(num_assign_interval * num_e_link, num_assign_interval * num_e_path))\n",
    "print(\"--- %s seconds ---\" % (time.time() - start_time))\n",
    "start_time = time.time()\n",
    "a = a.tocsr()\n",
    "print(\"--- %s seconds ---\" % (time.time() - start_time))"
   ]
  },
  {
   "cell_type": "code",
   "execution_count": null,
   "metadata": {},
   "outputs": [],
   "source": [
    "csr_matrix"
   ]
  },
  {
   "cell_type": "markdown",
   "metadata": {},
   "source": [
    "## Compare"
   ]
  },
  {
   "cell_type": "code",
   "execution_count": null,
   "metadata": {},
   "outputs": [],
   "source": [
    "from sklearn.metrics import r2_score"
   ]
  },
  {
   "cell_type": "code",
   "execution_count": null,
   "metadata": {},
   "outputs": [],
   "source": [
    "from scipy import stats\n",
    "def r2(predictions, targets):\n",
    "    y_bar = np.mean(targets)\n",
    "    # diff = np.minimum(np.abs(predictions - targets), targets)\n",
    "    diff = predictions - targets\n",
    "    ss_e = np.sum(diff ** 2)\n",
    "    ss_t = np.sum((targets) ** 2)\n",
    "    return 1 - ss_e / ss_t\n",
    "\n",
    "def rsquared(x, y):\n",
    "    slope, intercept, r_value, p_value, std_err = stats.linregress(x, y)\n",
    "    return r_value**2\n",
    "\n",
    "def rmse(predictions, targets):\n",
    "    return np.sqrt(((predictions - targets) ** 2).mean())\n",
    "\n",
    "def rmsn(predictions, targets):\n",
    "    return np.sqrt(np.sum((predictions - targets) ** 2) * len(predictions)) / np.sum(targets)"
   ]
  },
  {
   "cell_type": "code",
   "execution_count": null,
   "metadata": {},
   "outputs": [],
   "source": [
    "[m_car, L_car, m_truck, L_truck, m_spd_car, m_spd_truck, observed_link_list] = pickle.load(\n",
    "                    open('mc_data.pickle', 'rb'))\n",
    "num_assign_interval = nb.config.config_dict['DTA']['max_interval']\n",
    "ass_freq = nb.config.config_dict['DTA']['assign_frq']\n",
    "num_loading_interval =  num_assign_interval * ass_freq"
   ]
  },
  {
   "cell_type": "code",
   "execution_count": null,
   "metadata": {},
   "outputs": [],
   "source": [
    "dta = mcdta_api()\n",
    "dta.initialize(cache_folder)"
   ]
  },
  {
   "cell_type": "code",
   "execution_count": null,
   "metadata": {},
   "outputs": [],
   "source": [
    "dta.register_links(observed_link_list)\n",
    "dta.register_paths(range(nb.config.config_dict['FIXED']['num_path']))"
   ]
  },
  {
   "cell_type": "code",
   "execution_count": null,
   "metadata": {},
   "outputs": [],
   "source": [
    "dta.install_cc()\n",
    "dta.install_cc_tree()"
   ]
  },
  {
   "cell_type": "code",
   "execution_count": null,
   "metadata": {},
   "outputs": [],
   "source": [
    "dta.run_whole()"
   ]
  },
  {
   "cell_type": "code",
   "execution_count": null,
   "metadata": {},
   "outputs": [],
   "source": [
    "x_e = dta.get_link_car_inflow(np.arange(0, num_loading_interval, ass_freq), \n",
    "                  np.arange(0, num_loading_interval, ass_freq) + ass_freq).flatten(order = 'F')\n",
    "x_e = L_car.dot(x_e)"
   ]
  },
  {
   "cell_type": "code",
   "execution_count": null,
   "metadata": {},
   "outputs": [],
   "source": [
    "x_e_nonana = x_e[~np.isnan(m_car)]\n",
    "m_car_nonana = m_car[~np.isnan(m_car)]"
   ]
  },
  {
   "cell_type": "code",
   "execution_count": null,
   "metadata": {},
   "outputs": [],
   "source": [
    "print r2_score(m_car_nonana, x_e_nonana)\n",
    "print r2(m_car_nonana, x_e_nonana)\n",
    "print rsquared(m_car_nonana, x_e_nonana)\n",
    "print rmse(m_car_nonana, x_e_nonana)\n",
    "print rmsn(m_car_nonana, x_e_nonana)"
   ]
  },
  {
   "cell_type": "code",
   "execution_count": null,
   "metadata": {},
   "outputs": [],
   "source": [
    "x_e.shape"
   ]
  },
  {
   "cell_type": "code",
   "execution_count": null,
   "metadata": {},
   "outputs": [],
   "source": [
    "m_car.shape"
   ]
  },
  {
   "cell_type": "code",
   "execution_count": null,
   "metadata": {},
   "outputs": [],
   "source": [
    "plt.figure(figsize = (16,9), dpi = 300)\n",
    "plt.plot(m_car_nonana, x_e_nonana, '*')\n",
    "plt.show()"
   ]
  },
  {
   "cell_type": "code",
   "execution_count": null,
   "metadata": {},
   "outputs": [],
   "source": []
  }
 ],
 "metadata": {
  "kernelspec": {
   "display_name": "Python 3",
   "language": "python",
   "name": "python3"
  },
  "language_info": {
   "codemirror_mode": {
    "name": "ipython",
    "version": 3
   },
   "file_extension": ".py",
   "mimetype": "text/x-python",
   "name": "python",
   "nbconvert_exporter": "python",
   "pygments_lexer": "ipython3",
   "version": "3.12.5"
  }
 },
 "nbformat": 4,
 "nbformat_minor": 2
}
