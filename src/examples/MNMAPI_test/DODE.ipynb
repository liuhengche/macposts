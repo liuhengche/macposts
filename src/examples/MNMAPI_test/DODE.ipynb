{
 "cells": [
  {
   "cell_type": "code",
   "execution_count": 1,
   "metadata": {},
   "outputs": [],
   "source": [
    "%load_ext autoreload\n",
    "%autoreload 2"
   ]
  },
  {
   "cell_type": "markdown",
   "metadata": {},
   "source": []
  },
  {
   "cell_type": "code",
   "execution_count": 2,
   "metadata": {},
   "outputs": [],
   "source": [
    "import os\n",
    "import sys\n",
    "import numpy as np\n",
    "import matplotlib.pyplot as plt\n",
    "import hashlib\n",
    "import time\n",
    "import shutil"
   ]
  },
  {
   "cell_type": "code",
   "execution_count": 3,
   "metadata": {},
   "outputs": [],
   "source": [
    "MNM_nb_folder = os.path.join('..', '..', '..', 'side_project', 'network_builder')\n",
    "sys.path.append(MNM_nb_folder)"
   ]
  },
  {
   "cell_type": "code",
   "execution_count": 5,
   "metadata": {},
   "outputs": [],
   "source": [
    "import MNM_nb\n",
    "import macposts"
   ]
  },
  {
   "cell_type": "code",
   "execution_count": 6,
   "metadata": {},
   "outputs": [],
   "source": [
    "data_folder = os.path.join('..', '..', '..', 'data', 'input_files_2link_fix')\n",
    "new_folder = os.path.join('MNM_cache', 'input_files_2link_fix')"
   ]
  },
  {
   "cell_type": "code",
   "execution_count": 11,
   "metadata": {},
   "outputs": [
    {
     "name": "stdout",
     "output_type": "stream",
     "text": [
      "MNM_config\n",
      "MNM_pathtable\n"
     ]
    }
   ],
   "source": [
    "nb = MNM_nb.MNM_network_builder()"
   ]
  },
  {
   "cell_type": "code",
   "execution_count": 12,
   "metadata": {},
   "outputs": [
    {
     "name": "stdout",
     "output_type": "stream",
     "text": [
      "No config file\n",
      "No link input\n",
      "No node input\n",
      "No graph input\n",
      "No OD input\n",
      "No demand input\n",
      "No path table input\n"
     ]
    }
   ],
   "source": [
    "nb.load_from_folder(data_folder)"
   ]
  },
  {
   "cell_type": "code",
   "execution_count": 13,
   "metadata": {},
   "outputs": [
    {
     "ename": "KeyError",
     "evalue": "'DTA'",
     "output_type": "error",
     "traceback": [
      "\u001b[1;31m---------------------------------------------------------------------------\u001b[0m",
      "\u001b[1;31mKeyError\u001b[0m                                  Traceback (most recent call last)",
      "File \u001b[1;32m~\\AppData\\Local\\Packages\\PythonSoftwareFoundation.Python.3.12_qbz5n2kfra8p0\\LocalCache\\local-packages\\Python312\\site-packages\\IPython\\core\\formatters.py:711\u001b[0m, in \u001b[0;36mPlainTextFormatter.__call__\u001b[1;34m(self, obj)\u001b[0m\n\u001b[0;32m    704\u001b[0m stream \u001b[38;5;241m=\u001b[39m StringIO()\n\u001b[0;32m    705\u001b[0m printer \u001b[38;5;241m=\u001b[39m pretty\u001b[38;5;241m.\u001b[39mRepresentationPrinter(stream, \u001b[38;5;28mself\u001b[39m\u001b[38;5;241m.\u001b[39mverbose,\n\u001b[0;32m    706\u001b[0m     \u001b[38;5;28mself\u001b[39m\u001b[38;5;241m.\u001b[39mmax_width, \u001b[38;5;28mself\u001b[39m\u001b[38;5;241m.\u001b[39mnewline,\n\u001b[0;32m    707\u001b[0m     max_seq_length\u001b[38;5;241m=\u001b[39m\u001b[38;5;28mself\u001b[39m\u001b[38;5;241m.\u001b[39mmax_seq_length,\n\u001b[0;32m    708\u001b[0m     singleton_pprinters\u001b[38;5;241m=\u001b[39m\u001b[38;5;28mself\u001b[39m\u001b[38;5;241m.\u001b[39msingleton_printers,\n\u001b[0;32m    709\u001b[0m     type_pprinters\u001b[38;5;241m=\u001b[39m\u001b[38;5;28mself\u001b[39m\u001b[38;5;241m.\u001b[39mtype_printers,\n\u001b[0;32m    710\u001b[0m     deferred_pprinters\u001b[38;5;241m=\u001b[39m\u001b[38;5;28mself\u001b[39m\u001b[38;5;241m.\u001b[39mdeferred_printers)\n\u001b[1;32m--> 711\u001b[0m \u001b[43mprinter\u001b[49m\u001b[38;5;241;43m.\u001b[39;49m\u001b[43mpretty\u001b[49m\u001b[43m(\u001b[49m\u001b[43mobj\u001b[49m\u001b[43m)\u001b[49m\n\u001b[0;32m    712\u001b[0m printer\u001b[38;5;241m.\u001b[39mflush()\n\u001b[0;32m    713\u001b[0m \u001b[38;5;28;01mreturn\u001b[39;00m stream\u001b[38;5;241m.\u001b[39mgetvalue()\n",
      "File \u001b[1;32m~\\AppData\\Local\\Packages\\PythonSoftwareFoundation.Python.3.12_qbz5n2kfra8p0\\LocalCache\\local-packages\\Python312\\site-packages\\IPython\\lib\\pretty.py:419\u001b[0m, in \u001b[0;36mRepresentationPrinter.pretty\u001b[1;34m(self, obj)\u001b[0m\n\u001b[0;32m    408\u001b[0m                         \u001b[38;5;28;01mreturn\u001b[39;00m meth(obj, \u001b[38;5;28mself\u001b[39m, cycle)\n\u001b[0;32m    409\u001b[0m                 \u001b[38;5;28;01mif\u001b[39;00m (\n\u001b[0;32m    410\u001b[0m                     \u001b[38;5;28mcls\u001b[39m \u001b[38;5;129;01mis\u001b[39;00m \u001b[38;5;129;01mnot\u001b[39;00m \u001b[38;5;28mobject\u001b[39m\n\u001b[0;32m    411\u001b[0m                     \u001b[38;5;66;03m# check if cls defines __repr__\u001b[39;00m\n\u001b[1;32m   (...)\u001b[0m\n\u001b[0;32m    417\u001b[0m                     \u001b[38;5;129;01mand\u001b[39;00m \u001b[38;5;28mcallable\u001b[39m(_safe_getattr(\u001b[38;5;28mcls\u001b[39m, \u001b[38;5;124m\"\u001b[39m\u001b[38;5;124m__repr__\u001b[39m\u001b[38;5;124m\"\u001b[39m, \u001b[38;5;28;01mNone\u001b[39;00m))\n\u001b[0;32m    418\u001b[0m                 ):\n\u001b[1;32m--> 419\u001b[0m                     \u001b[38;5;28;01mreturn\u001b[39;00m \u001b[43m_repr_pprint\u001b[49m\u001b[43m(\u001b[49m\u001b[43mobj\u001b[49m\u001b[43m,\u001b[49m\u001b[43m \u001b[49m\u001b[38;5;28;43mself\u001b[39;49m\u001b[43m,\u001b[49m\u001b[43m \u001b[49m\u001b[43mcycle\u001b[49m\u001b[43m)\u001b[49m\n\u001b[0;32m    421\u001b[0m     \u001b[38;5;28;01mreturn\u001b[39;00m _default_pprint(obj, \u001b[38;5;28mself\u001b[39m, cycle)\n\u001b[0;32m    422\u001b[0m \u001b[38;5;28;01mfinally\u001b[39;00m:\n",
      "File \u001b[1;32m~\\AppData\\Local\\Packages\\PythonSoftwareFoundation.Python.3.12_qbz5n2kfra8p0\\LocalCache\\local-packages\\Python312\\site-packages\\IPython\\lib\\pretty.py:787\u001b[0m, in \u001b[0;36m_repr_pprint\u001b[1;34m(obj, p, cycle)\u001b[0m\n\u001b[0;32m    785\u001b[0m \u001b[38;5;250m\u001b[39m\u001b[38;5;124;03m\"\"\"A pprint that just redirects to the normal repr function.\"\"\"\u001b[39;00m\n\u001b[0;32m    786\u001b[0m \u001b[38;5;66;03m# Find newlines and replace them with p.break_()\u001b[39;00m\n\u001b[1;32m--> 787\u001b[0m output \u001b[38;5;241m=\u001b[39m \u001b[38;5;28;43mrepr\u001b[39;49m\u001b[43m(\u001b[49m\u001b[43mobj\u001b[49m\u001b[43m)\u001b[49m\n\u001b[0;32m    788\u001b[0m lines \u001b[38;5;241m=\u001b[39m output\u001b[38;5;241m.\u001b[39msplitlines()\n\u001b[0;32m    789\u001b[0m \u001b[38;5;28;01mwith\u001b[39;00m p\u001b[38;5;241m.\u001b[39mgroup():\n",
      "File \u001b[1;32md:\\documents\\GitHub\\MAC-POSTS\\src\\examples\\MNMAPI_test\\..\\..\\..\\side_project\\network_builder\\MNM_nb.py:454\u001b[0m, in \u001b[0;36mMNM_config.__repr__\u001b[1;34m(self)\u001b[0m\n\u001b[0;32m    453\u001b[0m \u001b[38;5;28;01mdef\u001b[39;00m \u001b[38;5;21m__repr__\u001b[39m(\u001b[38;5;28mself\u001b[39m):\n\u001b[1;32m--> 454\u001b[0m   \u001b[38;5;28;01mreturn\u001b[39;00m \u001b[38;5;28;43mself\u001b[39;49m\u001b[38;5;241;43m.\u001b[39;49m\u001b[38;5;21;43m__str__\u001b[39;49m\u001b[43m(\u001b[49m\u001b[43m)\u001b[49m\n",
      "File \u001b[1;32md:\\documents\\GitHub\\MAC-POSTS\\src\\examples\\MNMAPI_test\\..\\..\\..\\side_project\\network_builder\\MNM_nb.py:442\u001b[0m, in \u001b[0;36mMNM_config.__str__\u001b[1;34m(self)\u001b[0m\n\u001b[0;32m    440\u001b[0m tmp_str \u001b[38;5;241m=\u001b[39m \u001b[38;5;124m'\u001b[39m\u001b[38;5;124m'\u001b[39m\n\u001b[0;32m    441\u001b[0m tmp_str \u001b[38;5;241m+\u001b[39m\u001b[38;5;241m=\u001b[39m \u001b[38;5;124m'\u001b[39m\u001b[38;5;124m[DTA]\u001b[39m\u001b[38;5;130;01m\\n\u001b[39;00m\u001b[38;5;124m'\u001b[39m\n\u001b[1;32m--> 442\u001b[0m \u001b[38;5;28;01mfor\u001b[39;00m name, value \u001b[38;5;129;01min\u001b[39;00m \u001b[38;5;28;43mself\u001b[39;49m\u001b[38;5;241;43m.\u001b[39;49m\u001b[43mconfig_dict\u001b[49m\u001b[43m[\u001b[49m\u001b[38;5;124;43m'\u001b[39;49m\u001b[38;5;124;43mDTA\u001b[39;49m\u001b[38;5;124;43m'\u001b[39;49m\u001b[43m]\u001b[49m\u001b[38;5;241m.\u001b[39miteritems():\n\u001b[0;32m    443\u001b[0m   tmp_str \u001b[38;5;241m+\u001b[39m\u001b[38;5;241m=\u001b[39m \u001b[38;5;124m\"\u001b[39m\u001b[38;5;132;01m{}\u001b[39;00m\u001b[38;5;124m = \u001b[39m\u001b[38;5;132;01m{}\u001b[39;00m\u001b[38;5;130;01m\\n\u001b[39;00m\u001b[38;5;124m\"\u001b[39m\u001b[38;5;241m.\u001b[39mformat(\u001b[38;5;28mstr\u001b[39m(name), \u001b[38;5;28mstr\u001b[39m(value))\n\u001b[0;32m    444\u001b[0m tmp_str \u001b[38;5;241m+\u001b[39m\u001b[38;5;241m=\u001b[39m \u001b[38;5;124m'\u001b[39m\u001b[38;5;130;01m\\n\u001b[39;00m\u001b[38;5;124m[STAT]\u001b[39m\u001b[38;5;130;01m\\n\u001b[39;00m\u001b[38;5;124m'\u001b[39m\n",
      "\u001b[1;31mKeyError\u001b[0m: 'DTA'"
     ]
    }
   ],
   "source": [
    "nb.config"
   ]
  },
  {
   "cell_type": "markdown",
   "metadata": {},
   "source": [
    "## Config"
   ]
  },
  {
   "cell_type": "code",
   "execution_count": 9,
   "metadata": {},
   "outputs": [],
   "source": [
    "observed_links = [3]\n",
    "estimated_paths = np.arange(0, 2)"
   ]
  },
  {
   "cell_type": "markdown",
   "metadata": {},
   "source": [
    "### dar"
   ]
  },
  {
   "cell_type": "code",
   "execution_count": 10,
   "metadata": {},
   "outputs": [],
   "source": [
    "from scipy.sparse import coo_matrix\n",
    "def massage_raw_dar(raw_dar, f, num_link, ass_freq, observed_links, estimated_paths, num_interval):\n",
    "    num_e_path = len(estimated_paths)\n",
    "    num_e_link = len(observed_links)\n",
    "    link_seq = (np.array(map(lambda x: observed_links.index(x), raw_dar[:, 2].astype(np.int)))\n",
    "                + raw_dar[:, 3] * num_e_link / ass_freq).astype((np.int))\n",
    "    path_seq = (raw_dar[:, 0] + raw_dar[:, 1] * num_e_path).astype(np.int)\n",
    "    p = raw_dar[:, 4] / f[path_seq]\n",
    "\n",
    "    mat = coo_matrix((p, (link_seq, path_seq)), \n",
    "                   shape=(num_interval * num_e_link, num_interval * num_e_path)).toarray()\n",
    "    return mat"
   ]
  },
  {
   "cell_type": "code",
   "execution_count": 11,
   "metadata": {},
   "outputs": [],
   "source": [
    "def get_x(f, nb, observed_link_list, estimated_paths, new_folder):\n",
    "    num_interval = nb.config.config_dict['DTA']['max_interval']\n",
    "    ass_freq = nb.config.config_dict['DTA']['assign_frq']\n",
    "    num_link = nb.config.config_dict['DTA']['num_of_link']\n",
    "    total_interval = num_interval * ass_freq\n",
    "    nb.config.config_dict['DTA']['total_interval'] = total_interval * 2\n",
    "    num_path = nb.config.config_dict['FIXED']['num_path']\n",
    "    nb.update_demand_path(f)\n",
    "    nb.dump_to_folder(new_folder)\n",
    "    a = MNMAPI.dta_api()\n",
    "    a.initialize(new_folder)\n",
    "    a.register_links(observed_link_list)\n",
    "    a.register_paths(estimated_paths)\n",
    "    a.install_cc()\n",
    "    a.install_cc_tree()\n",
    "    a.run_whole()\n",
    "    x = a.get_link_inflow(np.arange(0, total_interval, ass_freq), np.arange(0, total_interval, ass_freq) + ass_freq).reshape((len(observed_link_list), total_interval/ass_freq), order = 'F').flatten()\n",
    "    raw_dar = a.get_dar_matrix(np.arange(0, total_interval, ass_freq), np.arange(0, total_interval, ass_freq) + ass_freq)\n",
    "    dar = massage_raw_dar(raw_dar, f, num_link, ass_freq, observed_link_list, estimated_paths, num_interval)\n",
    "    return x, dar"
   ]
  },
  {
   "cell_type": "markdown",
   "metadata": {},
   "source": [
    "### actual OD"
   ]
  },
  {
   "cell_type": "code",
   "execution_count": 12,
   "metadata": {},
   "outputs": [],
   "source": [
    "total_interval = 100\n",
    "ass_freq = 10\n",
    "num_path = nb.config.config_dict['FIXED']['num_path']\n",
    "num_link = nb.config.config_dict['DTA']['num_of_link']\n",
    "num_interval = nb.config.config_dict['DTA']['max_interval']"
   ]
  },
  {
   "cell_type": "code",
   "execution_count": 13,
   "metadata": {},
   "outputs": [],
   "source": [
    "f_real = np.random.rand(num_path * num_interval) * 10\n",
    "x_real, dar = get_x(f_real, nb, observed_links, estimated_paths, new_folder)"
   ]
  },
  {
   "cell_type": "code",
   "execution_count": 14,
   "metadata": {},
   "outputs": [
    {
     "data": {
      "text/plain": [
       "array([ 10.2,   9.4,  12.3,  10.6,   6. ,   8.4,   9.5,   5.6,  18.7,  15.1])"
      ]
     },
     "execution_count": 14,
     "metadata": {},
     "output_type": "execute_result"
    }
   ],
   "source": [
    "x_real"
   ]
  },
  {
   "cell_type": "code",
   "execution_count": 15,
   "metadata": {},
   "outputs": [],
   "source": [
    "# nb.update_demand_path(f_real)"
   ]
  },
  {
   "cell_type": "code",
   "execution_count": 16,
   "metadata": {},
   "outputs": [],
   "source": [
    "# nb.dump_to_folder(new_folder)"
   ]
  },
  {
   "cell_type": "code",
   "execution_count": 29,
   "metadata": {},
   "outputs": [],
   "source": []
  },
  {
   "cell_type": "code",
   "execution_count": 35,
   "metadata": {},
   "outputs": [
    {
     "data": {
      "text/plain": [
       "0L"
      ]
     },
     "execution_count": 35,
     "metadata": {},
     "output_type": "execute_result"
    }
   ],
   "source": [
    "hash = hashlib.sha1()\n",
    "hash.update(str(time.time()))\n",
    "new_folder = str(hash.hexdigest())\n",
    "nb.update_demand_path(f_real)\n",
    "nb.dump_to_folder(new_folder)\n",
    "a = MNMAPI.dta_api()\n",
    "a.initialize(new_folder)\n",
    "shutil.rmtree(new_folder)\n",
    "a.register_links([3])\n",
    "a.register_paths(np.arange(0, 2))\n",
    "a.install_cc()\n",
    "a.install_cc_tree()\n",
    "a.run_whole()"
   ]
  },
  {
   "cell_type": "code",
   "execution_count": 32,
   "metadata": {},
   "outputs": [],
   "source": [
    "\n"
   ]
  },
  {
   "cell_type": "code",
   "execution_count": 27,
   "metadata": {},
   "outputs": [
    {
     "name": "stdout",
     "output_type": "stream",
     "text": [
      "3a8dc14d8397ac668c13e28c2303949e494ee015\n",
      "3a8dc14d83\n"
     ]
    }
   ],
   "source": [
    "\n"
   ]
  },
  {
   "cell_type": "code",
   "execution_count": 18,
   "metadata": {},
   "outputs": [
    {
     "data": {
      "text/plain": [
       "array([[  1. ,   0. ,   3. ,   0. ,   2. ],\n",
       "       [  0. ,   0. ,   3. ,   0. ,   8.2],\n",
       "       [  1. ,   1. ,   3. ,  10. ,   7.7],\n",
       "       [  0. ,   1. ,   3. ,  10. ,   1.7],\n",
       "       [  1. ,   2. ,   3. ,  20. ,   7.9],\n",
       "       [  0. ,   2. ,   3. ,  20. ,   4.4],\n",
       "       [  1. ,   3. ,   3. ,  30. ,   7.5],\n",
       "       [  0. ,   3. ,   3. ,  30. ,   3.1],\n",
       "       [  1. ,   4. ,   3. ,  40. ,   1.5],\n",
       "       [  0. ,   4. ,   3. ,  40. ,   4.3],\n",
       "       [  1. ,   5. ,   3. ,  50. ,   2.2],\n",
       "       [  0. ,   5. ,   3. ,  50. ,   6.2],\n",
       "       [  1. ,   6. ,   3. ,  60. ,   5.2],\n",
       "       [  0. ,   6. ,   3. ,  60. ,   4.3],\n",
       "       [  1. ,   7. ,   3. ,  70. ,   5.1],\n",
       "       [  0. ,   7. ,   3. ,  70. ,   0.5],\n",
       "       [  1. ,   8. ,   3. ,  80. ,   9.3],\n",
       "       [  0. ,   8. ,   3. ,  80. ,   9.4],\n",
       "       [  1. ,   9. ,   3. ,  90. ,   8.7],\n",
       "       [  0. ,   9. ,   3. ,  90. ,   6.5]])"
      ]
     },
     "execution_count": 18,
     "metadata": {},
     "output_type": "execute_result"
    }
   ],
   "source": [
    "a.get_dar_matrix(np.arange(0, total_interval, ass_freq), np.arange(0, total_interval, ass_freq) + ass_freq)"
   ]
  },
  {
   "cell_type": "code",
   "execution_count": 19,
   "metadata": {},
   "outputs": [],
   "source": [
    "# a.get_cur_loading_interval()"
   ]
  },
  {
   "cell_type": "markdown",
   "metadata": {},
   "source": [
    "## Estimate"
   ]
  },
  {
   "cell_type": "code",
   "execution_count": 20,
   "metadata": {},
   "outputs": [],
   "source": [
    "f_e = np.random.rand(num_path * num_interval)*5\n",
    "x_e, dar_e = get_x(f_e, nb, observed_links, estimated_paths, new_folder)"
   ]
  },
  {
   "cell_type": "code",
   "execution_count": 21,
   "metadata": {},
   "outputs": [],
   "source": [
    "step_size = 0.1"
   ]
  },
  {
   "cell_type": "code",
   "execution_count": 22,
   "metadata": {},
   "outputs": [
    {
     "name": "stdout",
     "output_type": "stream",
     "text": [
      "23.5376294473 19.8221021911\n",
      "18.8098378515 17.1012877641\n",
      "16.1576607218 15.7290242259\n",
      "14.302447343 14.8251908409\n",
      "12.8965111561 14.1780141447\n",
      "11.8156675647 13.6889887948\n",
      "10.8013887996 13.3078558297\n",
      "9.90656348084 13.0030588674\n",
      "9.22117129219 12.7573857219\n",
      "8.6197447758 12.5538310467\n",
      "8.13265024454 12.3845649729\n",
      "7.56967634711 12.2405250131\n",
      "7.18401002226 12.1197252491\n",
      "6.81322243876 12.0154093914\n",
      "6.46219776856 11.9258241172\n",
      "6.10573500899 11.8481695295\n",
      "5.92030404625 11.7809503382\n",
      "5.54256258422 11.7209728028\n",
      "5.26497863244 11.5408047449\n",
      "5.08527285404 11.4883752648\n",
      "4.77912125814 11.4399022098\n",
      "4.6357307946 11.3973191703\n",
      "4.38178046004 11.3589897755\n",
      "4.20119030752 11.3248535897\n",
      "4.05215991787 11.2941844646\n",
      "3.92428337407 11.2665277787\n",
      "3.68374809128 11.2414682735\n",
      "3.63455636908 11.2190599532\n",
      "3.45832329316 11.1976736378\n",
      "3.27261363439 11.1785190687\n",
      "3.26190128606 11.1612369897\n",
      "3.17490157328 11.1450025941\n",
      "2.99666481275 11.1301888161\n",
      "2.80356915378 11.1167586735\n",
      "2.64575131106 11.1048970135\n",
      "2.683281573 11.0941871921\n",
      "2.65894716006 11.0835685855\n",
      "2.54558441227 11.07388492\n",
      "2.4289915603 11.0646384722\n",
      "2.34946802489 11.0562914922\n",
      "2.29128784748 11.0488364316\n",
      "2.16794833887 11.0419466893\n",
      "2.2 11.0356456807\n",
      "1.97230829233 11.0292470034\n",
      "2.04939015319 11.0238410877\n",
      "1.89472953215 11.0183876323\n",
      "1.93132079158 11.0135237313\n",
      "1.788854382 11.0088067916\n",
      "1.788854382 11.0046039872\n",
      "1.75783958312 11.0005590351\n"
     ]
    }
   ],
   "source": [
    "for i in range(50):\n",
    "    x_e, dar = get_x(f_e, nb, observed_links, estimated_paths, new_folder)\n",
    "    grad = - dar.T.dot(x_real - x_e)\n",
    "    print np.linalg.norm(x_e - x_real), np.linalg.norm(f_e - f_real)\n",
    "    f_e -= grad * step_size / np.sqrt(i + 1)"
   ]
  },
  {
   "cell_type": "code",
   "execution_count": 23,
   "metadata": {},
   "outputs": [
    {
     "data": {
      "text/plain": [
       "array([ 4.27074717,  5.77188792,  5.27645651,  3.71264918,  6.82524988,\n",
       "        4.81834652,  5.01495382,  5.45732112,  0.59254426,  5.18963998,\n",
       "        5.06661818,  2.99915968,  4.4734873 ,  4.6135044 ,  2.20526426,\n",
       "        3.58759296,  7.93295609,  9.64893005,  5.15826192,  9.21908952])"
      ]
     },
     "execution_count": 23,
     "metadata": {},
     "output_type": "execute_result"
    }
   ],
   "source": [
    "f_e"
   ]
  },
  {
   "cell_type": "code",
   "execution_count": 24,
   "metadata": {},
   "outputs": [
    {
     "data": {
      "text/plain": [
       "array([ 8.15804598,  1.95560978,  1.65903667,  7.65930837,  4.34551743,\n",
       "        7.94650391,  3.09611815,  7.46724298,  4.31241003,  1.52434044,\n",
       "        6.17122785,  2.2181613 ,  4.25540151,  5.14555835,  0.44283175,\n",
       "        5.11350549,  9.37581069,  9.36942636,  6.44685073,  8.72100766])"
      ]
     },
     "execution_count": 24,
     "metadata": {},
     "output_type": "execute_result"
    }
   ],
   "source": [
    "f_real"
   ]
  },
  {
   "cell_type": "code",
   "execution_count": 26,
   "metadata": {},
   "outputs": [
    {
     "data": {
      "image/png": "[encoded data removed]",
      "text/plain": [
       "<matplotlib.figure.Figure at 0x7f7b133a3790>"
      ]
     },
     "metadata": {},
     "output_type": "display_data"
    }
   ],
   "source": [
    "plt.plot(f_e, f_real, '*')\n",
    "plt.show()"
   ]
  }
 ],
 "metadata": {
  "kernelspec": {
   "display_name": "Python 3",
   "language": "python",
   "name": "python3"
  },
  "language_info": {
   "codemirror_mode": {
    "name": "ipython",
    "version": 3
   },
   "file_extension": ".py",
   "mimetype": "text/x-python",
   "name": "python",
   "nbconvert_exporter": "python",
   "pygments_lexer": "ipython3",
   "version": "3.12.5"
  }
 },
 "nbformat": 4,
 "nbformat_minor": 2
}
